{
 "cells": [
  {
   "cell_type": "code",
   "execution_count": 1,
   "id": "1be58373",
   "metadata": {},
   "outputs": [],
   "source": [
    "import json\n",
    "import numpy as np\n",
    "import pandas as pd\n",
    "import pickle\n",
    "\n",
    "from datetime import datetime as dt\n",
    "from sklearn.ensemble import RandomForestRegressor\n",
    "from sklearn.linear_model import LinearRegression, LogisticRegression, Lasso\n",
    "from sklearn.neural_network import MLPRegressor\n",
    "from sklearn import preprocessing, metrics, decomposition, model_selection"
   ]
  },
  {
   "cell_type": "markdown",
   "id": "580f7f06",
   "metadata": {},
   "source": [
    "# DoE"
   ]
  },
  {
   "cell_type": "code",
   "execution_count": 2,
   "id": "6c0bd4cb",
   "metadata": {},
   "outputs": [
    {
     "data": {
      "text/html": [
       "<div>\n",
       "<style scoped>\n",
       "    .dataframe tbody tr th:only-of-type {\n",
       "        vertical-align: middle;\n",
       "    }\n",
       "\n",
       "    .dataframe tbody tr th {\n",
       "        vertical-align: top;\n",
       "    }\n",
       "\n",
       "    .dataframe thead th {\n",
       "        text-align: right;\n",
       "    }\n",
       "</style>\n",
       "<table border=\"1\" class=\"dataframe\">\n",
       "  <thead>\n",
       "    <tr style=\"text-align: right;\">\n",
       "      <th></th>\n",
       "      <th>cores</th>\n",
       "      <th>parallelization</th>\n",
       "      <th>batch_size</th>\n",
       "      <th>learning_rate</th>\n",
       "      <th>max_epoch</th>\n",
       "      <th>start_time</th>\n",
       "      <th>end_time</th>\n",
       "      <th>duration</th>\n",
       "    </tr>\n",
       "  </thead>\n",
       "  <tbody>\n",
       "    <tr>\n",
       "      <th>0</th>\n",
       "      <td>1</td>\n",
       "      <td>1</td>\n",
       "      <td>32</td>\n",
       "      <td>0.01</td>\n",
       "      <td>5</td>\n",
       "      <td>2021-10-24 05:09:49+00:00</td>\n",
       "      <td>2021-10-24 05:16:47+00:00</td>\n",
       "      <td>418</td>\n",
       "    </tr>\n",
       "    <tr>\n",
       "      <th>1</th>\n",
       "      <td>1</td>\n",
       "      <td>1</td>\n",
       "      <td>32</td>\n",
       "      <td>0.01</td>\n",
       "      <td>5</td>\n",
       "      <td>2021-10-24 22:46:19+00:00</td>\n",
       "      <td>2021-10-24 22:53:33+00:00</td>\n",
       "      <td>434</td>\n",
       "    </tr>\n",
       "    <tr>\n",
       "      <th>2</th>\n",
       "      <td>1</td>\n",
       "      <td>1</td>\n",
       "      <td>32</td>\n",
       "      <td>0.01</td>\n",
       "      <td>5</td>\n",
       "      <td>2021-10-24 22:54:07+00:00</td>\n",
       "      <td>2021-10-24 23:01:05+00:00</td>\n",
       "      <td>418</td>\n",
       "    </tr>\n",
       "    <tr>\n",
       "      <th>3</th>\n",
       "      <td>1</td>\n",
       "      <td>1</td>\n",
       "      <td>32</td>\n",
       "      <td>0.01</td>\n",
       "      <td>20</td>\n",
       "      <td>2021-10-24 05:17:24+00:00</td>\n",
       "      <td>2021-10-24 05:42:48+00:00</td>\n",
       "      <td>1524</td>\n",
       "    </tr>\n",
       "    <tr>\n",
       "      <th>4</th>\n",
       "      <td>1</td>\n",
       "      <td>1</td>\n",
       "      <td>32</td>\n",
       "      <td>0.01</td>\n",
       "      <td>20</td>\n",
       "      <td>2021-10-24 23:01:56+00:00</td>\n",
       "      <td>2021-10-24 23:29:26+00:00</td>\n",
       "      <td>1650</td>\n",
       "    </tr>\n",
       "  </tbody>\n",
       "</table>\n",
       "</div>"
      ],
      "text/plain": [
       "   cores  parallelization  batch_size  learning_rate  max_epoch  \\\n",
       "0      1                1          32           0.01          5   \n",
       "1      1                1          32           0.01          5   \n",
       "2      1                1          32           0.01          5   \n",
       "3      1                1          32           0.01         20   \n",
       "4      1                1          32           0.01         20   \n",
       "\n",
       "                 start_time                  end_time  duration  \n",
       "0 2021-10-24 05:09:49+00:00 2021-10-24 05:16:47+00:00       418  \n",
       "1 2021-10-24 22:46:19+00:00 2021-10-24 22:53:33+00:00       434  \n",
       "2 2021-10-24 22:54:07+00:00 2021-10-24 23:01:05+00:00       418  \n",
       "3 2021-10-24 05:17:24+00:00 2021-10-24 05:42:48+00:00      1524  \n",
       "4 2021-10-24 23:01:56+00:00 2021-10-24 23:29:26+00:00      1650  "
      ]
     },
     "execution_count": 2,
     "metadata": {},
     "output_type": "execute_result"
    }
   ],
   "source": [
    "df = pd.read_csv('./results/results_complete.csv', parse_dates=['start_time', 'end_time'])\n",
    "df.head()"
   ]
  },
  {
   "cell_type": "code",
   "execution_count": 3,
   "id": "013fb564",
   "metadata": {},
   "outputs": [],
   "source": [
    "df.drop(['start_time', 'end_time'], axis=1, inplace=True)"
   ]
  },
  {
   "cell_type": "code",
   "execution_count": 4,
   "id": "13aa681d",
   "metadata": {},
   "outputs": [
    {
     "data": {
      "text/html": [
       "<div>\n",
       "<style scoped>\n",
       "    .dataframe tbody tr th:only-of-type {\n",
       "        vertical-align: middle;\n",
       "    }\n",
       "\n",
       "    .dataframe tbody tr th {\n",
       "        vertical-align: top;\n",
       "    }\n",
       "\n",
       "    .dataframe thead th {\n",
       "        text-align: right;\n",
       "    }\n",
       "</style>\n",
       "<table border=\"1\" class=\"dataframe\">\n",
       "  <thead>\n",
       "    <tr style=\"text-align: right;\">\n",
       "      <th></th>\n",
       "      <th>cores</th>\n",
       "      <th>parallelization</th>\n",
       "      <th>batch_size</th>\n",
       "      <th>learning_rate</th>\n",
       "      <th>max_epoch</th>\n",
       "      <th>duration</th>\n",
       "    </tr>\n",
       "  </thead>\n",
       "  <tbody>\n",
       "    <tr>\n",
       "      <th>0</th>\n",
       "      <td>1</td>\n",
       "      <td>1</td>\n",
       "      <td>32</td>\n",
       "      <td>0.01</td>\n",
       "      <td>5</td>\n",
       "      <td>423.33</td>\n",
       "    </tr>\n",
       "    <tr>\n",
       "      <th>1</th>\n",
       "      <td>1</td>\n",
       "      <td>1</td>\n",
       "      <td>32</td>\n",
       "      <td>0.01</td>\n",
       "      <td>20</td>\n",
       "      <td>1587.67</td>\n",
       "    </tr>\n",
       "    <tr>\n",
       "      <th>2</th>\n",
       "      <td>1</td>\n",
       "      <td>1</td>\n",
       "      <td>32</td>\n",
       "      <td>0.05</td>\n",
       "      <td>5</td>\n",
       "      <td>404.33</td>\n",
       "    </tr>\n",
       "    <tr>\n",
       "      <th>3</th>\n",
       "      <td>1</td>\n",
       "      <td>1</td>\n",
       "      <td>32</td>\n",
       "      <td>0.05</td>\n",
       "      <td>20</td>\n",
       "      <td>1555.33</td>\n",
       "    </tr>\n",
       "    <tr>\n",
       "      <th>4</th>\n",
       "      <td>1</td>\n",
       "      <td>1</td>\n",
       "      <td>256</td>\n",
       "      <td>0.01</td>\n",
       "      <td>5</td>\n",
       "      <td>330.67</td>\n",
       "    </tr>\n",
       "  </tbody>\n",
       "</table>\n",
       "</div>"
      ],
      "text/plain": [
       "   cores  parallelization  batch_size  learning_rate  max_epoch  duration\n",
       "0      1                1          32           0.01          5    423.33\n",
       "1      1                1          32           0.01         20   1587.67\n",
       "2      1                1          32           0.05          5    404.33\n",
       "3      1                1          32           0.05         20   1555.33\n",
       "4      1                1         256           0.01          5    330.67"
      ]
     },
     "execution_count": 4,
     "metadata": {},
     "output_type": "execute_result"
    }
   ],
   "source": [
    "df = df.groupby(['cores', 'parallelization', 'batch_size', 'learning_rate', 'max_epoch'], sort=False, as_index=False).mean().round(2)\n",
    "df.head()\n",
    "# df.to_csv('./results/results.csv')"
   ]
  },
  {
   "cell_type": "markdown",
   "id": "3be0cccd",
   "metadata": {},
   "source": [
    "# Queueing Theory"
   ]
  },
  {
   "cell_type": "code",
   "execution_count": 5,
   "id": "fd34fe2f",
   "metadata": {},
   "outputs": [],
   "source": [
    "FMT = '%Y-%m-%dT%H:%M:%SZ'"
   ]
  },
  {
   "cell_type": "code",
   "execution_count": 6,
   "id": "4d96c487",
   "metadata": {
    "scrolled": true
   },
   "outputs": [],
   "source": [
    "# job_names = []\n",
    "# arrival_times = []\n",
    "# start_times = []\n",
    "# end_times = []\n",
    "\n",
    "# with open('../queue_2/20.json', 'r') as f:\n",
    "#     data = json.load(f)\n",
    "\n",
    "# for item in data['items']:\n",
    "#     job_names.append(item['metadata']['name'])\n",
    "#     for status in item['status']['conditions']:\n",
    "#         if status['type'] == 'Created':\n",
    "#             arrival_times.append(dt.strptime(status['lastUpdateTime'], FMT))\n",
    "#         elif status['type'] == 'Running':\n",
    "#             start_times.append(dt.strptime(status['lastUpdateTime'], FMT))\n",
    "#         else:\n",
    "#             end_times.append(dt.strptime(status['lastUpdateTime'], FMT))\n",
    "\n",
    "# df = pd.DataFrame({'Name':job_names, 'Created':arrival_times, 'Start':start_times, 'Completed':end_times})\n",
    "# df.sort_values(['Created'], axis=0)\n",
    "# df['ServiceTime'] = (df['Completed'] - df['Start']).apply(lambda x:x.seconds)\n",
    "# df['WaitTime'] = (df['Start'] - df['Created']).apply(lambda x:x.seconds)\n",
    "# df['ResponseTime'] = (df['Completed'] - df['Created']).apply(lambda x:x.seconds)\n",
    "# df"
   ]
  },
  {
   "cell_type": "code",
   "execution_count": 7,
   "id": "c8983a29",
   "metadata": {},
   "outputs": [],
   "source": [
    "# total_time = (df['Completed'].max() - df['Created'].min()).seconds\n",
    "# busy_time = df['ServiceTime'].sum()\n",
    "# utilization = busy_time / total_time\n",
    "# print(f'Utilization = {busy_time} / {total_time} = {utilization}')\n",
    "# average_resp_time = df['ResponseTime'].mean()\n",
    "# print(f'Average Response Time = {average_resp_time}')"
   ]
  },
  {
   "cell_type": "code",
   "execution_count": 8,
   "id": "48c48ccb",
   "metadata": {},
   "outputs": [],
   "source": [
    "# df['ServiceTime'].mean()"
   ]
  },
  {
   "cell_type": "code",
   "execution_count": 9,
   "id": "6252b027",
   "metadata": {},
   "outputs": [],
   "source": [
    "%matplotlib inline\n",
    "import matplotlib.pyplot as plt"
   ]
  },
  {
   "cell_type": "code",
   "execution_count": 10,
   "id": "947c34b4",
   "metadata": {},
   "outputs": [
    {
     "data": {
      "image/png": "[encoded data removed]",
      "text/plain": [
       "<Figure size 432x288 with 1 Axes>"
      ]
     },
     "metadata": {
      "needs_background": "light"
     },
     "output_type": "display_data"
    }
   ],
   "source": [
    "x_1 = np.array([80,70,50,30,20]) # Interarrival time\n",
    "x_1 = 1 / x_1 # Arrival Rate\n",
    "plt.plot(x_1, [36,37,40,45,55], label=\"1 CPU with 3 cores (M/M/1)\")\n",
    "plt.plot(x_1, [62,64,68,70,72], label=\"3 CPU with 1 core (M/M/k)\")\n",
    "\n",
    "plt.xlabel(\"Arrival Rate\")\n",
    "plt.ylabel(\"Response Time\")\n",
    "plt.title('Low Variability')\n",
    "plt.legend()\n",
    "plt.savefig('./plots/lowVar.png', dpi=300)\n",
    "plt.savefig('./plots/lowVar.jpg', dpi=300)\n",
    "plt.show()"
   ]
  },
  {
   "cell_type": "code",
   "execution_count": 11,
   "id": "bffe2d9b",
   "metadata": {},
   "outputs": [
    {
     "data": {
      "image/png": "[encoded data removed]",
      "text/plain": [
       "<Figure size 432x288 with 1 Axes>"
      ]
     },
     "metadata": {
      "needs_background": "light"
     },
     "output_type": "display_data"
    }
   ],
   "source": [
    "x_1 = np.array([180,160,120,100,80]) # Interarrival time\n",
    "x_1 = 1 / x_1 # Arrival Rate\n",
    "plt.plot(x_1, [75,78,83,92,105], label=\"1 CPU with 3 cores (M/M/1)\")\n",
    "plt.plot(x_1, [202,190,192,192,196], label=\"3 CPU with 1 core (M/M/k)\")\n",
    "\n",
    "plt.xlabel(\"Arrival Rate\")\n",
    "plt.ylabel(\"Response Time\")\n",
    "plt.title('High Variability')\n",
    "plt.legend()\n",
    "plt.savefig('./plots/highVar.png', dpi=300)\n",
    "plt.savefig('./plots/highVar.jpg', dpi=300)\n",
    "plt.show()"
   ]
  },
  {
   "cell_type": "markdown",
   "id": "ddfb2073",
   "metadata": {},
   "source": [
    "# Machine Learning"
   ]
  },
  {
   "cell_type": "code",
   "execution_count": 12,
   "id": "42d52dcd",
   "metadata": {},
   "outputs": [
    {
     "data": {
      "text/html": [
       "<div>\n",
       "<style scoped>\n",
       "    .dataframe tbody tr th:only-of-type {\n",
       "        vertical-align: middle;\n",
       "    }\n",
       "\n",
       "    .dataframe tbody tr th {\n",
       "        vertical-align: top;\n",
       "    }\n",
       "\n",
       "    .dataframe thead th {\n",
       "        text-align: right;\n",
       "    }\n",
       "</style>\n",
       "<table border=\"1\" class=\"dataframe\">\n",
       "  <thead>\n",
       "    <tr style=\"text-align: right;\">\n",
       "      <th></th>\n",
       "      <th>cores</th>\n",
       "      <th>parallelization</th>\n",
       "      <th>batch_size</th>\n",
       "      <th>learning_rate</th>\n",
       "      <th>max_epoch</th>\n",
       "      <th>start_time</th>\n",
       "      <th>end_time</th>\n",
       "      <th>duration</th>\n",
       "    </tr>\n",
       "  </thead>\n",
       "  <tbody>\n",
       "    <tr>\n",
       "      <th>0</th>\n",
       "      <td>1</td>\n",
       "      <td>1</td>\n",
       "      <td>32</td>\n",
       "      <td>0.01</td>\n",
       "      <td>5</td>\n",
       "      <td>2021-10-24 05:09:49+00:00</td>\n",
       "      <td>2021-10-24 05:16:47+00:00</td>\n",
       "      <td>418</td>\n",
       "    </tr>\n",
       "    <tr>\n",
       "      <th>1</th>\n",
       "      <td>1</td>\n",
       "      <td>1</td>\n",
       "      <td>32</td>\n",
       "      <td>0.01</td>\n",
       "      <td>5</td>\n",
       "      <td>2021-10-24 22:46:19+00:00</td>\n",
       "      <td>2021-10-24 22:53:33+00:00</td>\n",
       "      <td>434</td>\n",
       "    </tr>\n",
       "    <tr>\n",
       "      <th>2</th>\n",
       "      <td>1</td>\n",
       "      <td>1</td>\n",
       "      <td>32</td>\n",
       "      <td>0.01</td>\n",
       "      <td>5</td>\n",
       "      <td>2021-10-24 22:54:07+00:00</td>\n",
       "      <td>2021-10-24 23:01:05+00:00</td>\n",
       "      <td>418</td>\n",
       "    </tr>\n",
       "    <tr>\n",
       "      <th>3</th>\n",
       "      <td>1</td>\n",
       "      <td>1</td>\n",
       "      <td>32</td>\n",
       "      <td>0.01</td>\n",
       "      <td>20</td>\n",
       "      <td>2021-10-24 05:17:24+00:00</td>\n",
       "      <td>2021-10-24 05:42:48+00:00</td>\n",
       "      <td>1524</td>\n",
       "    </tr>\n",
       "    <tr>\n",
       "      <th>4</th>\n",
       "      <td>1</td>\n",
       "      <td>1</td>\n",
       "      <td>32</td>\n",
       "      <td>0.01</td>\n",
       "      <td>20</td>\n",
       "      <td>2021-10-24 23:01:56+00:00</td>\n",
       "      <td>2021-10-24 23:29:26+00:00</td>\n",
       "      <td>1650</td>\n",
       "    </tr>\n",
       "  </tbody>\n",
       "</table>\n",
       "</div>"
      ],
      "text/plain": [
       "   cores  parallelization  batch_size  learning_rate  max_epoch  \\\n",
       "0      1                1          32           0.01          5   \n",
       "1      1                1          32           0.01          5   \n",
       "2      1                1          32           0.01          5   \n",
       "3      1                1          32           0.01         20   \n",
       "4      1                1          32           0.01         20   \n",
       "\n",
       "                  start_time                   end_time  duration  \n",
       "0  2021-10-24 05:09:49+00:00  2021-10-24 05:16:47+00:00       418  \n",
       "1  2021-10-24 22:46:19+00:00  2021-10-24 22:53:33+00:00       434  \n",
       "2  2021-10-24 22:54:07+00:00  2021-10-24 23:01:05+00:00       418  \n",
       "3  2021-10-24 05:17:24+00:00  2021-10-24 05:42:48+00:00      1524  \n",
       "4  2021-10-24 23:01:56+00:00  2021-10-24 23:29:26+00:00      1650  "
      ]
     },
     "execution_count": 12,
     "metadata": {},
     "output_type": "execute_result"
    }
   ],
   "source": [
    "# Get the dataset loaded and define class labels\n",
    "data = pd.read_csv('./results/results_complete.csv')\n",
    "data.head()"
   ]
  },
  {
   "cell_type": "code",
   "execution_count": 13,
   "id": "18b678d2",
   "metadata": {},
   "outputs": [],
   "source": [
    "data.drop(['start_time', 'end_time'], axis=1, inplace=True)"
   ]
  },
  {
   "cell_type": "code",
   "execution_count": 14,
   "id": "b5ad9b15",
   "metadata": {},
   "outputs": [],
   "source": [
    "# All data columns except last are input features (X), last column is output label (y)\n",
    "feature_names = data.columns\n",
    "n_features = len(data.columns) - 1\n",
    "X = data.iloc[:, 0:n_features].values\n",
    "y = data.iloc[:, n_features].values"
   ]
  },
  {
   "cell_type": "code",
   "execution_count": 15,
   "id": "3f62c2fe",
   "metadata": {},
   "outputs": [],
   "source": [
    "# X = preprocessing.StandardScaler().fit_transform(X)"
   ]
  },
  {
   "cell_type": "code",
   "execution_count": 16,
   "id": "2fa99df1",
   "metadata": {},
   "outputs": [
    {
     "name": "stdout",
     "output_type": "stream",
     "text": [
      "X train (64, 5)\n",
      "X test(32, 5)\n",
      "y train (64,)\n",
      "y train (32,)\n"
     ]
    }
   ],
   "source": [
    "# Split data in training and testing for 0.33 ratio of testing\n",
    "X_train, X_test, y_train, y_test = model_selection.train_test_split(X, y, test_size=0.33, random_state=42)\n",
    "print('X train {}'.format(X_train.shape))\n",
    "print('X test{}'.format(X_test.shape))\n",
    "print('y train {}'.format(y_train.shape))\n",
    "print('y train {}'.format(y_test.shape))"
   ]
  },
  {
   "cell_type": "code",
   "execution_count": 17,
   "id": "5dfaaa06",
   "metadata": {},
   "outputs": [],
   "source": [
    "# MODEL CREATION\n",
    "mlp = MLPRegressor()\n",
    "rf = RandomForestRegressor()\n",
    "lr = LinearRegression()\n",
    "logr = LogisticRegression()\n",
    "lasso = Lasso()"
   ]
  },
  {
   "cell_type": "code",
   "execution_count": 18,
   "id": "d9eff64b",
   "metadata": {},
   "outputs": [
    {
     "name": "stderr",
     "output_type": "stream",
     "text": [
      "D:\\InstalledSoftware\\Anaconda3\\envs\\qpecs\\lib\\site-packages\\sklearn\\neural_network\\_multilayer_perceptron.py:692: ConvergenceWarning: Stochastic Optimizer: Maximum iterations (200) reached and the optimization hasn't converged yet.\n",
      "  warnings.warn(\n",
      "D:\\InstalledSoftware\\Anaconda3\\envs\\qpecs\\lib\\site-packages\\sklearn\\linear_model\\_logistic.py:814: ConvergenceWarning: lbfgs failed to converge (status=1):\n",
      "STOP: TOTAL NO. of ITERATIONS REACHED LIMIT.\n",
      "\n",
      "Increase the number of iterations (max_iter) or scale the data as shown in:\n",
      "    https://scikit-learn.org/stable/modules/preprocessing.html\n",
      "Please also refer to the documentation for alternative solver options:\n",
      "    https://scikit-learn.org/stable/modules/linear_model.html#logistic-regression\n",
      "  n_iter_i = _check_optimize_result(\n"
     ]
    },
    {
     "data": {
      "text/plain": [
       "RandomForestRegressor()"
      ]
     },
     "execution_count": 18,
     "metadata": {},
     "output_type": "execute_result"
    }
   ],
   "source": [
    "# PARAMETER TRAINING\n",
    "\n",
    "# MLP\n",
    "mlp.fit(X_train,y_train)\n",
    "\n",
    "# Linear Regression\n",
    "lr.fit(X_train,y_train)\n",
    "\n",
    "# Logistic Regressor\n",
    "logr.fit(X_train,y_train)\n",
    "\n",
    "# Lasso Regressor\n",
    "lasso.fit(X_train,y_train)\n",
    "\n",
    "# Random Forest Regressor\n",
    "rf.fit(X_train,y_train)"
   ]
  },
  {
   "cell_type": "code",
   "execution_count": 19,
   "id": "cd13b5aa",
   "metadata": {},
   "outputs": [],
   "source": [
    "# INFERENCE\n",
    "\n",
    "# MLP\n",
    "y_mlp = mlp.predict(X_test)\n",
    "\n",
    "# Linear Regression\n",
    "y_lr = lr.predict(X_test)\n",
    "\n",
    "# Logistic Regressor\n",
    "y_logr = logr.predict(X_test)\n",
    "\n",
    "# Lasso Regressor\n",
    "y_lasso = lasso.predict(X_test)\n",
    "\n",
    "# Random Forest Regressor\n",
    "y_rf = rf.predict(X_test)"
   ]
  },
  {
   "cell_type": "code",
   "execution_count": 20,
   "id": "eb2f65a4",
   "metadata": {},
   "outputs": [],
   "source": [
    "# ERROR MEASURE\n",
    "mae = []\n",
    "mae.append(metrics.mean_absolute_error(y_test, y_mlp))\n",
    "mae.append(metrics.mean_absolute_error(y_test, y_lr))\n",
    "mae.append(metrics.mean_absolute_error(y_test, y_logr))\n",
    "mae.append(metrics.mean_absolute_error(y_test, y_lasso))\n",
    "mae.append(metrics.mean_absolute_error(y_test, y_rf))\n",
    "\n",
    "mse = []\n",
    "mse.append(metrics.mean_squared_error(y_test, y_mlp))\n",
    "mse.append(metrics.mean_squared_error(y_test, y_lr))\n",
    "mse.append(metrics.mean_squared_error(y_test, y_logr))\n",
    "mse.append(metrics.mean_squared_error(y_test, y_lasso))\n",
    "mse.append(metrics.mean_squared_error(y_test, y_rf))\n",
    "\n",
    "r2 = []\n",
    "r2.append(metrics.r2_score(y_test,y_mlp))\n",
    "r2.append(metrics.r2_score(y_test,y_lr))\n",
    "r2.append(metrics.r2_score(y_test,y_logr))\n",
    "r2.append(metrics.r2_score(y_test,y_lasso))\n",
    "r2.append(metrics.r2_score(y_test,y_rf))"
   ]
  },
  {
   "cell_type": "code",
   "execution_count": 21,
   "id": "0f64b97a",
   "metadata": {},
   "outputs": [
    {
     "data": {
      "text/html": [
       "<div>\n",
       "<style scoped>\n",
       "    .dataframe tbody tr th:only-of-type {\n",
       "        vertical-align: middle;\n",
       "    }\n",
       "\n",
       "    .dataframe tbody tr th {\n",
       "        vertical-align: top;\n",
       "    }\n",
       "\n",
       "    .dataframe thead th {\n",
       "        text-align: right;\n",
       "    }\n",
       "</style>\n",
       "<table border=\"1\" class=\"dataframe\">\n",
       "  <thead>\n",
       "    <tr style=\"text-align: right;\">\n",
       "      <th></th>\n",
       "      <th>Model</th>\n",
       "      <th>MAE</th>\n",
       "      <th>MSE</th>\n",
       "      <th>R2</th>\n",
       "    </tr>\n",
       "  </thead>\n",
       "  <tbody>\n",
       "    <tr>\n",
       "      <th>0</th>\n",
       "      <td>MLP</td>\n",
       "      <td>402.917569</td>\n",
       "      <td>374509.280669</td>\n",
       "      <td>-0.504141</td>\n",
       "    </tr>\n",
       "    <tr>\n",
       "      <th>1</th>\n",
       "      <td>Linear Regressor</td>\n",
       "      <td>177.213497</td>\n",
       "      <td>56493.518108</td>\n",
       "      <td>0.773105</td>\n",
       "    </tr>\n",
       "    <tr>\n",
       "      <th>2</th>\n",
       "      <td>Logistic Regressor</td>\n",
       "      <td>101.750000</td>\n",
       "      <td>25660.250000</td>\n",
       "      <td>0.896941</td>\n",
       "    </tr>\n",
       "    <tr>\n",
       "      <th>3</th>\n",
       "      <td>Lasso</td>\n",
       "      <td>172.287139</td>\n",
       "      <td>54927.668853</td>\n",
       "      <td>0.779394</td>\n",
       "    </tr>\n",
       "    <tr>\n",
       "      <th>4</th>\n",
       "      <td>Random Forest</td>\n",
       "      <td>25.510738</td>\n",
       "      <td>2206.500444</td>\n",
       "      <td>0.991138</td>\n",
       "    </tr>\n",
       "  </tbody>\n",
       "</table>\n",
       "</div>"
      ],
      "text/plain": [
       "                Model         MAE            MSE        R2\n",
       "0                 MLP  402.917569  374509.280669 -0.504141\n",
       "1    Linear Regressor  177.213497   56493.518108  0.773105\n",
       "2  Logistic Regressor  101.750000   25660.250000  0.896941\n",
       "3               Lasso  172.287139   54927.668853  0.779394\n",
       "4       Random Forest   25.510738    2206.500444  0.991138"
      ]
     },
     "execution_count": 21,
     "metadata": {},
     "output_type": "execute_result"
    }
   ],
   "source": [
    "pd.DataFrame({'Model':['MLP', 'Linear Regressor', 'Logistic Regressor', 'Lasso', 'Random Forest'], 'MAE': mae, 'MSE':mse, 'R2':r2})"
   ]
  },
  {
   "cell_type": "code",
   "execution_count": 22,
   "id": "3a4ca6ee",
   "metadata": {},
   "outputs": [
    {
     "data": {
      "text/plain": [
       "array([0.24009859, 0.30547099, 0.02387661, 0.00301698, 0.42753682])"
      ]
     },
     "execution_count": 22,
     "metadata": {},
     "output_type": "execute_result"
    }
   ],
   "source": [
    "rf.feature_importances_"
   ]
  },
  {
   "cell_type": "code",
   "execution_count": 23,
   "id": "404130c8",
   "metadata": {},
   "outputs": [
    {
     "data": {
      "image/png": "[encoded data removed]",
      "text/plain": [
       "<Figure size 720x360 with 1 Axes>"
      ]
     },
     "metadata": {
      "needs_background": "light"
     },
     "output_type": "display_data"
    }
   ],
   "source": [
    "plt.figure(figsize=(10, 5))\n",
    "plt.bar(feature_names[:-1], rf.feature_importances_)\n",
    "plt.title('Feature Importance')\n",
    "plt.xlabel('Features')\n",
    "plt.ylabel('Importance')\n",
    "plt.savefig('./plots/featImp.png', dpi=300)\n",
    "plt.savefig('./plots/featImp.jpg', dpi=300)\n",
    "plt.show()"
   ]
  },
  {
   "cell_type": "code",
   "execution_count": 24,
   "id": "15ebc94c",
   "metadata": {},
   "outputs": [],
   "source": [
    "# save RF Model\n",
    "pickle.dump(rf, open('./models/model.pkl', 'wb'))"
   ]
  },
  {
   "cell_type": "code",
   "execution_count": 40,
   "id": "bef7ead1",
   "metadata": {},
   "outputs": [
    {
     "data": {
      "text/plain": [
       "72.40028571428572"
      ]
     },
     "execution_count": 40,
     "metadata": {},
     "output_type": "execute_result"
    }
   ],
   "source": [
    "rf_demo = pickle.load(open(\"./models/model.pkl\", \"rb\"))\n",
    "x_demo = np.array([[8,4,32,0.01,5]])\n",
    "y_demo = rf_demo.predict(x_demo)\n",
    "y_demo[0]"
   ]
  },
  {
   "cell_type": "markdown",
   "id": "795bfe65",
   "metadata": {},
   "source": [
    "# Optimization"
   ]
  },
  {
   "cell_type": "code",
   "execution_count": 70,
   "id": "4c1fc18d",
   "metadata": {},
   "outputs": [
    {
     "name": "stdout",
     "output_type": "stream",
     "text": [
      "Percentage of jobs satisfying condition is 50 %\n"
     ]
    }
   ],
   "source": [
    "df = pd.read_csv('./results/log_random.csv', parse_dates=['start_time', 'end_time'])\n",
    "df['duration'] = df['end_time'] - df['start_time']\n",
    "df['duration'] = df['duration'].apply(lambda x:x.seconds)\n",
    "df.drop(['job_name', 'end_time', 'start_time'], axis=1, inplace = True)\n",
    "per = df[df['duration'] < 250].shape[0] / df.shape[0]\n",
    "print(f'Percentage of jobs satisfying condition is {round(per*100)} %')"
   ]
  },
  {
   "cell_type": "code",
   "execution_count": 72,
   "id": "9cb0585f",
   "metadata": {},
   "outputs": [
    {
     "name": "stdout",
     "output_type": "stream",
     "text": [
      "Percentage of jobs satisfying condition is 83 %\n"
     ]
    }
   ],
   "source": [
    "df = pd.read_csv('./results/log_optimizer.csv', parse_dates=['start_time', 'end_time'])\n",
    "df['duration'] = df['end_time'] - df['start_time']\n",
    "df['duration'] = df['duration'].apply(lambda x:x.seconds)\n",
    "df.drop(['job_name', 'end_time', 'start_time'], axis=1, inplace = True)\n",
    "per = df[df['duration'] < 250].shape[0] / df.shape[0]\n",
    "print(f'Percentage of jobs satisfying condition is {round(per*100)} %')"
   ]
  }
 ],
 "metadata": {
  "kernelspec": {
   "display_name": "Python 3 (ipykernel)",
   "language": "python",
   "name": "python3"
  },
  "language_info": {
   "codemirror_mode": {
    "name": "ipython",
    "version": 3
   },
   "file_extension": ".py",
   "mimetype": "text/x-python",
   "name": "python",
   "nbconvert_exporter": "python",
   "pygments_lexer": "ipython3",
   "version": "3.8.12"
  }
 },
 "nbformat": 4,
 "nbformat_minor": 5
}
